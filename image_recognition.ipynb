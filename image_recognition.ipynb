{
 "cells": [
  {
   "cell_type": "code",
   "execution_count": 70,
   "metadata": {},
   "outputs": [],
   "source": [
    "#TODO \n",
    "#https://www.tensorflow.org/install/pip\n",
    "#Beskriv och visa hur datan ser ut (både x_test, y_train, x-train, y-test) och förklara hur denna data används"
   ]
  },
  {
   "cell_type": "code",
   "execution_count": 71,
   "metadata": {},
   "outputs": [],
   "source": [
    "import keras\n",
    "from keras.datasets import mnist\n",
    "from keras.models import Sequential\n",
    "from keras.layers import Dense, Dropout, Flatten\n",
    "from keras.layers import Conv2D, MaxPooling2D\n",
    "import numpy as np\n",
    "import warnings\n",
    "import cv2\n",
    "warnings.filterwarnings('ignore')"
   ]
  },
  {
   "cell_type": "code",
   "execution_count": 72,
   "metadata": {},
   "outputs": [],
   "source": [
    "#Parameters\n",
    "batch_size = 128\n",
    "num_classes = 10\n",
    "epochs = 12 #12\n",
    " #https://www.tensorflow.org/install/pip\n",
    "# input image dimensions\n",
    "img_rows, img_cols = 28, 28"
   ]
  },
  {
   "cell_type": "code",
   "execution_count": 73,
   "metadata": {},
   "outputs": [],
   "source": [
    "#Import and split of data\n",
    "(x_train, y_train), (x_test, y_test) = mnist.load_data()\n",
    " \n",
    "x_train = x_train.astype('float32')\n",
    "x_test = x_test.astype('float32')\n",
    "x_train /= 255\n",
    "x_test /= 255\n",
    " \n",
    "x_train = x_train.reshape(x_train.shape[0], 1, img_rows, img_cols)\n",
    "x_test = x_test.reshape(x_test.shape[0], 1, img_rows, img_cols)\n",
    "input_shape = (img_rows, img_cols, 1)"
   ]
  },
  {
   "cell_type": "code",
   "execution_count": 74,
   "metadata": {},
   "outputs": [],
   "source": [
    "# convert class vectors to binary class matrices\n",
    "y_train = keras.utils.to_categorical(y_train, num_classes)\n",
    "y_test = keras.utils.to_categorical(y_test, num_classes)"
   ]
  },
  {
   "cell_type": "code",
   "execution_count": 75,
   "metadata": {},
   "outputs": [
    {
     "name": "stdout",
     "output_type": "stream",
     "text": [
      "_________________________________________________________________\n",
      "Layer (type)                 Output Shape              Param #   \n",
      "=================================================================\n",
      "conv2d_7 (Conv2D)            (None, 26, 26, 32)        320       \n",
      "_________________________________________________________________\n",
      "conv2d_8 (Conv2D)            (None, 24, 24, 64)        18496     \n",
      "_________________________________________________________________\n",
      "max_pooling2d_4 (MaxPooling2 (None, 12, 12, 64)        0         \n",
      "_________________________________________________________________\n",
      "dropout_7 (Dropout)          (None, 12, 12, 64)        0         \n",
      "_________________________________________________________________\n",
      "flatten_4 (Flatten)          (None, 9216)              0         \n",
      "_________________________________________________________________\n",
      "dense_7 (Dense)              (None, 128)               1179776   \n",
      "_________________________________________________________________\n",
      "dropout_8 (Dropout)          (None, 128)               0         \n",
      "_________________________________________________________________\n",
      "dense_8 (Dense)              (None, 10)                1290      \n",
      "=================================================================\n",
      "Total params: 1,199,882\n",
      "Trainable params: 1,199,882\n",
      "Non-trainable params: 0\n",
      "_________________________________________________________________\n",
      "None\n"
     ]
    }
   ],
   "source": [
    "#Create layers in network\n",
    "model = Sequential()\n",
    "model.add(Conv2D(32, kernel_size=(3, 3), activation='relu',input_shape=input_shape))\n",
    "model.add(Conv2D(64, (3, 3), activation='relu'))\n",
    "model.add(MaxPooling2D(pool_size=(2, 2)))\n",
    "model.add(Dropout(0.25))\n",
    "model.add(Flatten())\n",
    "model.add(Dense(128, activation='relu'))\n",
    "model.add(Dropout(0.5))\n",
    "model.add(Dense(num_classes, activation='softmax'))\n",
    " \n",
    "model.compile(loss=keras.losses.categorical_crossentropy,\n",
    " optimizer=keras.optimizers.Adadelta(),\n",
    " metrics=['accuracy'])\n",
    "print(model.summary())"
   ]
  },
  {
   "cell_type": "code",
   "execution_count": 76,
   "metadata": {},
   "outputs": [
    {
     "name": "stdout",
     "output_type": "stream",
     "text": [
      "Train on 60000 samples, validate on 9999 samples\n",
      "Epoch 1/12\n",
      "60000/60000 [==============================] - 87s 1ms/step - loss: 0.2736 - acc: 0.9158 - val_loss: 0.0637 - val_acc: 0.9795\n",
      "Epoch 2/12\n",
      "60000/60000 [==============================] - 82s 1ms/step - loss: 0.0931 - acc: 0.9728 - val_loss: 0.0466 - val_acc: 0.9838\n",
      "Epoch 3/12\n",
      "60000/60000 [==============================] - 84s 1ms/step - loss: 0.0696 - acc: 0.9789 - val_loss: 0.0369 - val_acc: 0.9874\n",
      "Epoch 4/12\n",
      "60000/60000 [==============================] - 79s 1ms/step - loss: 0.0579 - acc: 0.9827 - val_loss: 0.0317 - val_acc: 0.9885\n",
      "Epoch 5/12\n",
      "60000/60000 [==============================] - 81s 1ms/step - loss: 0.0489 - acc: 0.9851 - val_loss: 0.0295 - val_acc: 0.9904\n",
      "Epoch 6/12\n",
      "60000/60000 [==============================] - 82s 1ms/step - loss: 0.0412 - acc: 0.9873 - val_loss: 0.0273 - val_acc: 0.9905\n",
      "Epoch 7/12\n",
      "60000/60000 [==============================] - 80s 1ms/step - loss: 0.0380 - acc: 0.9880 - val_loss: 0.0297 - val_acc: 0.9896\n",
      "Epoch 8/12\n",
      "60000/60000 [==============================] - 86s 1ms/step - loss: 0.0354 - acc: 0.9891 - val_loss: 0.0259 - val_acc: 0.9904\n",
      "Epoch 9/12\n",
      "60000/60000 [==============================] - 80s 1ms/step - loss: 0.0325 - acc: 0.9902 - val_loss: 0.0275 - val_acc: 0.9909\n",
      "Epoch 10/12\n",
      "60000/60000 [==============================] - 79s 1ms/step - loss: 0.0305 - acc: 0.9908 - val_loss: 0.0259 - val_acc: 0.9920\n",
      "Epoch 11/12\n",
      "60000/60000 [==============================] - 79s 1ms/step - loss: 0.0278 - acc: 0.9911 - val_loss: 0.0280 - val_acc: 0.9911\n",
      "Epoch 12/12\n",
      "60000/60000 [==============================] - 82s 1ms/step - loss: 0.0260 - acc: 0.9920 - val_loss: 0.0261 - val_acc: 0.9922\n"
     ]
    },
    {
     "data": {
      "text/plain": [
       "<keras.callbacks.History at 0x9f95b8c588>"
      ]
     },
     "execution_count": 76,
     "metadata": {},
     "output_type": "execute_result"
    }
   ],
   "source": [
    "#Train the model\n",
    "x_test = np.transpose(x_test, (0,3,2,1))\n",
    "x_train = np.transpose(x_train, (0,3,2,1))\n",
    "\n",
    "model.fit(x_train, y_train, batch_size=batch_size, epochs=epochs, verbose=1, validation_data=(x_test[:-1], y_test[:-1]))"
   ]
  },
  {
   "cell_type": "code",
   "execution_count": 114,
   "metadata": {},
   "outputs": [
    {
     "name": "stdout",
     "output_type": "stream",
     "text": [
      "Prediction:  6\n",
      "True:  6\n",
      "Confidence interval:  [[1.2685738e-09 5.9500703e-12 2.4964697e-10 7.5941816e-14 6.1288669e-10\n",
      "  4.2299466e-09 1.0000000e+00 2.3616392e-15 1.8779468e-10 1.9715711e-12]]\n",
      "Test loss: 0.026051596943198637\n",
      "Test accuracy: 0.9922\n"
     ]
    }
   ],
   "source": [
    "#Predict and evaluate the model\n",
    "print(\"Prediction: \", np.argmax(model.predict(x_test[-1:])))\n",
    "print(\"True: \", np.argmax(y_test[-1]))\n",
    "print(\"Confidence interval: \", model.predict(x_test[-1:]))\n",
    "score = model.evaluate(x_test, y_test, verbose=0)\n",
    "\n",
    "#Model\n",
    "print('Test loss:', score[0])\n",
    "print('Test accuracy:', score[1])\n"
   ]
  },
  {
   "cell_type": "code",
   "execution_count": 137,
   "metadata": {},
   "outputs": [],
   "source": [
    "im = cv2.imread(\"Documents/1.png\", 0)\n",
    "im = cv2.resize(im,  (img_rows, img_cols))\n",
    "\n",
    "im = [im]\n",
    "im_2 = np.array([im for i in range(1)]) \n",
    "#print(im_2.shape)#1*28*28\n",
    "im = im_2.astype('float32')\n",
    "im /= 255\n",
    "im = np.transpose(im, (0,3,2,1))"
   ]
  },
  {
   "cell_type": "code",
   "execution_count": 138,
   "metadata": {},
   "outputs": [
    {
     "name": "stdout",
     "output_type": "stream",
     "text": [
      "Prediction:  7\n",
      "True:  ?\n",
      "Confidence interval:  [[6.2814898e-10 2.6268101e-05 3.8571729e-06 1.0975149e-07 1.3230404e-07\n",
      "  3.0376168e-10 3.1411835e-12 9.9996960e-01 1.9324673e-09 3.8844431e-11]]\n"
     ]
    }
   ],
   "source": [
    "print(\"Prediction: \", np.argmax(model.predict(im)))\n",
    "print(\"True: \" , \"?\")\n",
    "print(\"Confidence interval: \", model.predict(im))"
   ]
  },
  {
   "cell_type": "code",
   "execution_count": null,
   "metadata": {},
   "outputs": [],
   "source": []
  }
 ],
 "metadata": {
  "kernelspec": {
   "display_name": "Python 3",
   "language": "python",
   "name": "python3"
  },
  "language_info": {
   "codemirror_mode": {
    "name": "ipython",
    "version": 3
   },
   "file_extension": ".py",
   "mimetype": "text/x-python",
   "name": "python",
   "nbconvert_exporter": "python",
   "pygments_lexer": "ipython3",
   "version": "3.7.4"
  }
 },
 "nbformat": 4,
 "nbformat_minor": 2
}
